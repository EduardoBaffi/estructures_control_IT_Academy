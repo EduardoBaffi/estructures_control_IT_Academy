{
 "cells": [
  {
   "cell_type": "markdown",
   "id": "e696cc24",
   "metadata": {},
   "source": [
    "## Tasca 3: Estructura de control - Eduardo Baffi"
   ]
  },
  {
   "cell_type": "markdown",
   "id": "a4a55d78",
   "metadata": {},
   "source": [
    "#### Nivell 1"
   ]
  },
  {
   "cell_type": "code",
   "execution_count": 81,
   "id": "5fe2c36b",
   "metadata": {},
   "outputs": [
    {
     "name": "stdout",
     "output_type": "stream",
     "text": [
      "ESCALA\n",
      "Introduzca su nota:85\n",
      "Notable\n"
     ]
    }
   ],
   "source": [
    "# - Exercici 1\n",
    "# L'exercici consisteix a crear un programa que et classifiqui una variable numèrica en funció de l’escala...\n",
    "# ...Suspès/Aprovat/Notable/Excel·lent.\n",
    "\n",
    "print(\"ESCALA\")\n",
    "grade = int(input(\"Introduzca su nota:\"))\n",
    "\n",
    "if grade < 0 or grade > 100:\n",
    "    print(\"La nota debe estar entre 0 y 100. Intente de nuevo\")\n",
    "elif grade < 50:\n",
    "    print(\"Suspendido\")\n",
    "elif grade >= 50 and grade < 70:\n",
    "    print(\"Aprobado\")\n",
    "elif grade >= 70 and grade < 90:\n",
    "    print(\"Notable\")\n",
    "else:\n",
    "    print(\"Excelente\")\n"
   ]
  },
  {
   "cell_type": "code",
   "execution_count": 8,
   "id": "d7748a6d",
   "metadata": {},
   "outputs": [
    {
     "name": "stdout",
     "output_type": "stream",
     "text": [
      "COMPARE DOS NÚMEROS\n",
      "Introduzca el primer numero:34\n",
      "Introduzca el segundo numero:34\n",
      "Los números son iguales.\n"
     ]
    }
   ],
   "source": [
    "# - Exercici 2\n",
    "# Utilitzant el següent tutorial Programiz: Python Input, Output and Import crea un programa que et pregunti dos números. \n",
    "# T’ha de mostrar un missatge dient si el primer és més gran, el segon és més gran o són iguals.\n",
    "\n",
    "print(\"COMPARE DOS NÚMEROS\")\n",
    "\n",
    "num1 = int(input(\"Introduzca el primer numero:\"))\n",
    "num2 = int(input(\"Introduzca el segundo numero:\"))\n",
    "\n",
    "if num1 > num2:\n",
    "    print(\"El primero es mayor.\")\n",
    "elif num1 < num2:\n",
    "    print(\"El segundo es mayor.\")\n",
    "else:\n",
    "    print(\"Los números son iguales.\")\n"
   ]
  },
  {
   "cell_type": "code",
   "execution_count": 16,
   "id": "e8cb84bf",
   "metadata": {},
   "outputs": [
    {
     "name": "stdout",
     "output_type": "stream",
     "text": [
      "Cual es tu nombre? Eduardo\n",
      "Introduzca un número: 5\n",
      "Eduardo Eduardo Eduardo Eduardo Eduardo \n"
     ]
    }
   ],
   "source": [
    "# - Exercici 3\n",
    "# Crea un programa que et pregunti el teu nom, i et demani un número. Si el número és 0, hauria de mostrar un missatge d’error. \n",
    "# En cas contrari, hauria de mostrar el nom repetit tants cops com indiqui el número. Per exemple, “Joan Joan Joan”.\n",
    "\n",
    "name = input(\"Cual es tu nombre? \")\n",
    "number = int(input(\"Introduzca un número: \"))\n",
    "\n",
    "if number <=0: # Además del zero pedido en el ejercício, he incluído números negativos en el mensaje de error.\n",
    "    print(\"Erro! El número tiene que ser mayor que zero.\")\n",
    "\n",
    "else:\n",
    "    print((name+\" \")*number)\n",
    "    "
   ]
  },
  {
   "cell_type": "code",
   "execution_count": 67,
   "id": "d61f231a",
   "metadata": {},
   "outputs": [
    {
     "name": "stdout",
     "output_type": "stream",
     "text": [
      "PROGRAMA PARA PROBAR SI UNA LISTA ES SIMÉTRICA\n",
      "Introduzca el número de elementos: 4\n",
      "Introduzca los valores: 12\n",
      "Introduzca los valores: 13\n",
      "Introduzca los valores: 13\n",
      "Introduzca los valores: 12\n",
      "[12, 13, 13, 12]\n",
      "La lista es simetrica. Número de elementos: 4\n"
     ]
    }
   ],
   "source": [
    "# - Exercici 4\n",
    "# Crea un programa que donada una llista qualsevol, et digui si es simètrica o no. Si ho és, que et digui quants elements té.\n",
    "\n",
    "import math\n",
    "\n",
    "print(\"PROGRAMA PARA PROBAR SI UNA LISTA ES SIMÉTRICA\")\n",
    "\n",
    "enterList = []     # Empezar siempre con  la lista vacia\n",
    "num = int(input(\"Introduzca el número de elementos: \"))  # Pide al usuário el número totl de elementos de la lista\n",
    "if num <= 0:\n",
    "    print(\"Atención! El número de elemntos tiene que ser mayor que zero para que programa funcione.\")\n",
    "\n",
    "else:\n",
    "    for i in range(0, num):                             # Cria la lista \n",
    "        elements = int(input(\"Introduzca los valores: \"))   \n",
    "        enterList.append(elements)\n",
    "\n",
    "    print(enterList)\n",
    "    \n",
    "\n",
    "#enterList = [15, 34, 33, 67, 45, 67, 33, 34, 15]   # Lista fija que puede ser usada para probar el programa\n",
    "    length = len(enterList)\n",
    "    sym = True\n",
    "\n",
    "    if length < 2: \n",
    "        print(\"La lista es simetrica. Número de elementos: \" + str(length))\n",
    "    else:\n",
    "        i=0\n",
    "        while i < (math.floor(length/2)) and sym == True:\n",
    "            if enterList[i]==enterList[-1-i]:\n",
    "                sym = True       \n",
    "            else:\n",
    "                sym = False\n",
    "            i += 1  \n",
    "\n",
    "        if sym == True:\n",
    "            print (\"La lista es simetrica. Número de elementos: \" + str(length))\n",
    "        else:\n",
    "            print(\"La lista no es simetrica.\")\n"
   ]
  },
  {
   "cell_type": "code",
   "execution_count": 80,
   "id": "e1d7e74d",
   "metadata": {},
   "outputs": [
    {
     "name": "stdout",
     "output_type": "stream",
     "text": [
      "[17, 12, 7, 13, 4, 20, 16, 0, 9, 9]\n",
      "Total de números que coinciden con su posición: 2\n",
      "Los números que coinciden son: [4, 9]\n"
     ]
    }
   ],
   "source": [
    "# - Exercici 5\n",
    "# Crea un programa que donada una llista, et digui quants números coincideixen amb la seva posició. \n",
    "# Per exemple [3,4,2,0,2,3,6] el 2 i el 6 coincideixen.\n",
    "\n",
    "import random\n",
    "\n",
    "#posList = [4, 1, 9, 5, 2, 5, 7, 3, 0]    # Lista fija que puede ser usada para probar el programa\n",
    "\n",
    "posList = [random.randint(0, 20) for _ in range(10)]\n",
    "print(posList)\n",
    "\n",
    "result = []\n",
    "match=0\n",
    "i=0\n",
    "while i < len(posList):\n",
    "    if posList[i] == i:\n",
    "        match += 1         # Totla de números que coniciden\n",
    "        result.append(i)   # Lista con los números que coinciden. Dentro del append() podriamos usar posList[i] también\n",
    "    i += 1\n",
    "\n",
    "if match > 0:                                                               # Mensajes si hay algun número dque coincide\n",
    "    print(\"Total de números que coinciden con su posición: \" + str(match))\n",
    "    print(\"Los números que coinciden son: \" + str(result))\n",
    "else:                                                                       # Mensaje si no hay coincidencia\n",
    "    print(\"Ningún número coincide con su posición.\")"
   ]
  }
 ],
 "metadata": {
  "kernelspec": {
   "display_name": "Python 3",
   "language": "python",
   "name": "python3"
  },
  "language_info": {
   "codemirror_mode": {
    "name": "ipython",
    "version": 3
   },
   "file_extension": ".py",
   "mimetype": "text/x-python",
   "name": "python",
   "nbconvert_exporter": "python",
   "pygments_lexer": "ipython3",
   "version": "3.8.5"
  },
  "latex_envs": {
   "LaTeX_envs_menu_present": true,
   "autoclose": false,
   "autocomplete": true,
   "bibliofile": "biblio.bib",
   "cite_by": "apalike",
   "current_citInitial": 1,
   "eqLabelWithNumbers": true,
   "eqNumInitial": 1,
   "hotkeys": {
    "equation": "Ctrl-E",
    "itemize": "Ctrl-I"
   },
   "labels_anchors": false,
   "latex_user_defs": false,
   "report_style_numbering": false,
   "user_envs_cfg": false
  }
 },
 "nbformat": 4,
 "nbformat_minor": 5
}
